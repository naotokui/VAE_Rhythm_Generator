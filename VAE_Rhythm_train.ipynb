{
 "cells": [
  {
   "cell_type": "markdown",
   "metadata": {},
   "source": [
    "# Constants"
   ]
  },
  {
   "cell_type": "code",
   "execution_count": 2,
   "metadata": {},
   "outputs": [],
   "source": [
    "DRUM_CLASSES = [\n",
    "   'Kick',\n",
    "   'Snare',\n",
    "   'Hi-hat closed',\n",
    "   'Hi-hat open',\n",
    "   'Tom low',\n",
    "   'Tom mid', \n",
    "   'Tom high',\n",
    "   'Clap',\n",
    "   'Rim' \n",
    "]\n",
    "\n",
    "MIDI_DRUM_MAP = {\n",
    "    36: 0,\n",
    "    38: 1,\n",
    "    40: 1,\n",
    "    37: 1,\n",
    "    48: 5,\n",
    "    50: 6,\n",
    "    45: 4,\n",
    "    47: 5,\n",
    "    43: 4,\n",
    "    58: 4,\n",
    "    46: 3,\n",
    "    26: 3,\n",
    "    42: 2,\n",
    "    22: 2,\n",
    "    44: 2,\n",
    "    49: 7,\n",
    "    55: 7,\n",
    "    57: 7,\n",
    "    52: 7,\n",
    "    51: 8,\n",
    "    59: 8,\n",
    "    53: 8 \n",
    "}\n",
    "    \n",
    "resolution  = 4 # separate quater into 4  = 16 notes per bar\n",
    "\n",
    "nb_bars = 2 \n",
    "\n",
    "len_seq = resolution * 4 * nb_bars # length of drumloops in training data - 2 bars\n",
    "    \n",
    "nb_notes = len(DRUM_CLASSES) # number of possible MIDI notes  - max_drum_note - min_drum_note\n"
   ]
  },
  {
   "cell_type": "markdown",
   "metadata": {},
   "source": [
    "# Preprocessing Data\n",
    "\n",
    "This script assumes that you have downloaded [Google Groove MIDI dataset](https://magenta.tensorflow.org/datasets/groove), uncompssed and move the uncompressed `groove` folder into `./midi_dataset/` directory.  \n"
   ]
  },
  {
   "cell_type": "code",
   "execution_count": 1,
   "metadata": {},
   "outputs": [
    {
     "name": "stdout",
     "output_type": "stream",
     "text": [
      "491\n"
     ]
    }
   ],
   "source": [
    "from glob import glob\n",
    "import os\n",
    "\n",
    "os.environ[\"CUDA_VISIBLE_DEVICES\"] = '0' #only relevant in my own environement\n",
    "\n",
    "# We are only handling 4/4 beats\n",
    "filepaths = glob(\"./midi_dataset/groove/*/*/*beat_4-4.mid\")\n",
    "print(len(filepaths))"
   ]
  },
  {
   "cell_type": "code",
   "execution_count": 21,
   "metadata": {},
   "outputs": [
    {
     "name": "stdout",
     "output_type": "stream",
     "text": [
      "{'funk': 53, 'latin': 48, 'highlife': 2, 'rock': 204, 'afrobeat': 13, 'dance': 7, 'neworleans': 13, 'hiphop': 34, 'soul': 28, 'pop': 15, 'jazz': 48, 'afrocuban': 7, 'punk': 7, 'gospel': 1, 'country': 2, 'reggae': 4, 'middleeastern': 1, 'blues': 4}\n",
      "Genres ['funk', 'latin', 'rock', 'hiphop', 'soul', 'jazz']\n"
     ]
    }
   ],
   "source": [
    "# genres \n",
    "all_genres = {}\n",
    "for path in filepaths:\n",
    "    _path = os.path.basename(path)\n",
    "    path = _path.split(\"_\")[1]\n",
    "    genre = path.split(\"-\")[0]\n",
    "    if genre not in all_genres:\n",
    "        all_genres[genre] = 1\n",
    "    else:\n",
    "        all_genres[genre] += 1        \n",
    "print (all_genres)\n",
    "\n",
    "# genre used. ignore smaller genres\n",
    "GENRES = []\n",
    "for genre, nb in all_genres.items():\n",
    "    if nb > 25:\n",
    "        GENRES.append(genre)\n",
    "print(\"Genres\", GENRES)\n",
    "NB_GENRES = len(GENRES)"
   ]
  },
  {
   "cell_type": "code",
   "execution_count": 3,
   "metadata": {},
   "outputs": [],
   "source": [
    "# Utility function\n",
    "import matplotlib.pyplot as plt\n",
    "%matplotlib inline\n",
    "\n",
    "def plot_drum_matrix(a):\n",
    "    if a is not None:\n",
    "        a = np.transpose(np.squeeze(a))\n",
    "        plt.matshow(a)\n",
    "        plt.show()        "
   ]
  },
  {
   "cell_type": "markdown",
   "metadata": {},
   "source": [
    "## MIDI -> Piano roll matrix"
   ]
  },
  {
   "cell_type": "code",
   "execution_count": 37,
   "metadata": {
    "scrolled": false
   },
   "outputs": [
    {
     "name": "stdout",
     "output_type": "stream",
     "text": [
      "84 ./midi_dataset/groove/drummer7/session2/2_rock_120_beat_4-4.mid\n"
     ]
    },
    {
     "data": {
      "image/png": "[encoded data removed]",
      "text/plain": [
       "<Figure size 1024x288 with 1 Axes>"
      ]
     },
     "metadata": {
      "needs_background": "light"
     },
     "output_type": "display_data"
    }
   ],
   "source": [
    "import random\n",
    "import numpy as np\n",
    "import os\n",
    "import joblib\n",
    "import pretty_midi\n",
    "import glob\n",
    "\n",
    "import matplotlib.pyplot as plt\n",
    "%matplotlib inline\n",
    "\n",
    "MIN_NB_ONSETS = 8\n",
    "\n",
    "def plot_drum_matrix(a):\n",
    "    if a is not None:\n",
    "        a = np.transpose(np.squeeze(a))\n",
    "        plt.matshow(a)\n",
    "        plt.show()  \n",
    "\n",
    "# unit timestep = 16th note\n",
    "def get_pianomatrices_of_drums(midi_file, is_drum=True):\n",
    "    found = False\n",
    "    genre_id = -1\n",
    "    \n",
    "    # is it in selected genres?\n",
    "    for id_, genre in enumerate(GENRES):\n",
    "        if genre in midi_file:\n",
    "            found = True\n",
    "            genre_id = id_\n",
    "            break\n",
    "    if found is False:\n",
    "        return (None, None, None, None)\n",
    "    \n",
    "    # load midi file\n",
    "    try:\n",
    "        pm = pretty_midi.PrettyMIDI(midi_file)\n",
    "    except:\n",
    "        print (\"Failed to load midi: \", midi_file)\n",
    "        return (None, None, None, None)\n",
    "        \n",
    "    # get timiming of quater notes\n",
    "    beats = pm.get_beats()\n",
    "    \n",
    "    # make it to 16th notes\n",
    "    beats_ticks = [] # converting to ticks\n",
    "    \n",
    "    for i in range((len(beats) +1)* 4):\n",
    "        beats_ticks.append(i * pm.resolution / 4)\n",
    "    \n",
    "    num_notes16 = len(beats_ticks)\n",
    "    print(num_notes16, midi_file)\n",
    "    \n",
    "    # maximum duration of one note\n",
    "    max_duration = 2.0 # 2 quater notes\n",
    "\n",
    "    # convert ticks to index of 16th note\n",
    "    def find_note_index(tick, beats_ticks):\n",
    "        return (np.abs(beats_ticks - tick)).argmin()\n",
    "    \n",
    "    def get_timeshift(beats_ticks, grid_id, note_start):\n",
    "        grid_start = beats_ticks[grid_id]\n",
    "        tick_diff = note_start - grid_start\n",
    "        tick_grid = pm.resolution / 4        \n",
    "        diff_coef= tick_diff / tick_grid * 2.0\n",
    "        return diff_coef\n",
    "        \n",
    "    # # of notes\n",
    "    notes_length = 4 * nb_bars * resolution\n",
    "\n",
    "    # create pianoroll matrix (resolution: 16th note))\n",
    "    found_extra = False # with other than kick/snare/hat\n",
    "    pianorolls, timeshifts, durations, genre_ids = [], [], [], []\n",
    "    for instrument in pm.instruments:\n",
    "        if instrument.is_drum == is_drum:  # use drum tracks only\n",
    "            \n",
    "            for note_start in range(0, num_notes16 - 16, 16): # hopsize = 1bar = 16 16th notes\n",
    "                pianoroll = np.zeros((notes_length, nb_notes), dtype='float') \n",
    "                timeshift = np.zeros((notes_length, nb_notes), dtype='float')\n",
    "                duration = np.zeros((notes_length, nb_notes), dtype='float')\n",
    "\n",
    "                for note in instrument.notes:\n",
    "                    idx_start = find_note_index(pm.time_to_tick(note.start), beats_ticks)\n",
    "                    diff_coef = get_timeshift(beats_ticks, idx_start, pm.time_to_tick(note.start))\n",
    "\n",
    "                    if note_start <= idx_start and idx_start < note_start + notes_length:\n",
    "                        if note.pitch in MIDI_DRUM_MAP:\n",
    "                            drum_note = MIDI_DRUM_MAP[note.pitch]\n",
    "                            \n",
    "                            pianoroll[idx_start - note_start, drum_note] = note.velocity / 128.\n",
    "                            timeshift[idx_start - note_start, drum_note] = diff_coef\n",
    "\n",
    "                            dur = (pm.time_to_tick(note.end) - pm.time_to_tick(note.start))/ (pm.resolution / 4)\n",
    "                            dur = min(1.0, max(0, dur / max_duration))\n",
    "                            duration[idx_start - note_start, drum_note] = dur\n",
    "\n",
    "                            if drum_note >= 3:\n",
    "                                found_extra = True\n",
    "                        else:\n",
    "                            print(\"not found\", note.pitch )\n",
    "                \n",
    "                if np.sum(pianoroll > 0.) >= MIN_NB_ONSETS:\n",
    "                    pianorolls.append(pianoroll)\n",
    "                    timeshifts.append(timeshift)\n",
    "                    durations.append(duration)\n",
    "                    genre_ids.append(genre_id)\n",
    "             \n",
    "    # ignore the first and the last one!\n",
    "    pianorolls = np.array(pianorolls)\n",
    "    timeshifts = np.array(timeshifts)\n",
    "    durations = np.array(durations)\n",
    "    genre_ids = np.array(genre_ids)\n",
    "    \n",
    "    return (pianorolls,timeshifts, durations, genre_ids)\n",
    "    \n",
    "# Testing MIDI files\n",
    "midi_file = random.choice(filepaths)\n",
    "(drums, timeshift, duration, genre_ids) = get_pianomatrices_of_drums(midi_file)    \n",
    "\n",
    "if drums is not None:\n",
    "    plot_drum_matrix(drums[0])"
   ]
  },
  {
   "cell_type": "code",
   "execution_count": 42,
   "metadata": {},
   "outputs": [
    {
     "name": "stderr",
     "output_type": "stream",
     "text": [
      "[Parallel(n_jobs=-1)]: Using backend LokyBackend with 4 concurrent workers.\n",
      "[Parallel(n_jobs=-1)]: Done  10 tasks      | elapsed:    8.7s\n",
      "[Parallel(n_jobs=-1)]: Done  64 tasks      | elapsed:  1.3min\n",
      "[Parallel(n_jobs=-1)]: Done 154 tasks      | elapsed:  5.3min\n",
      "[Parallel(n_jobs=-1)]: Done 280 tasks      | elapsed:  6.3min\n",
      "[Parallel(n_jobs=-1)]: Done 452 tasks      | elapsed: 18.5min\n",
      "[Parallel(n_jobs=-1)]: Done 484 out of 491 | elapsed: 18.6min remaining:   16.1s\n",
      "[Parallel(n_jobs=-1)]: Done 491 out of 491 | elapsed: 40.5min finished\n"
     ]
    }
   ],
   "source": [
    "# Batch processing - be patient. \n",
    "matrices_drum_list = joblib.Parallel(n_jobs=-1, verbose=5)(\n",
    "   joblib.delayed(get_pianomatrices_of_drums)(midi_file, True)     \n",
    "     for midi_file in filepaths)"
   ]
  },
  {
   "cell_type": "markdown",
   "metadata": {},
   "source": [
    "### Store the pianoroll matrix to a file for the later use"
   ]
  },
  {
   "cell_type": "code",
   "execution_count": 50,
   "metadata": {},
   "outputs": [
    {
     "name": "stdout",
     "output_type": "stream",
     "text": [
      "(16620, 32, 9)\n",
      "(16620, 32, 9)\n",
      "(16620, 32, 9)\n",
      "(16620,)\n"
     ]
    }
   ],
   "source": [
    "# remove invlid values -  TODO: clean up the code\n",
    "matrices_drums_selected = [a for a in matrices_drum_list if a is not None]\n",
    "matrices_drums_selected = [a for a in matrices_drums_selected if (a[0] is not None and a[0].shape[0] == a[1].shape[0] and a[1].shape[0] == a[2].shape[0] and a[2].shape[0] == a[3].shape[0] and a[0].shape[0]>0)]\n",
    "\n",
    "matrices_drums_ = [a[0] for a in matrices_drums_selected] # if a is not None and len(a[0].shape)==3 and a[3].shape[0] == a[0].shape[0]]\n",
    "matrices_times_ = [a[1] for a in matrices_drums_selected] # if a is not None and len(a[1].shape)==3 and a[3].shape[0] == a[0].shape[0]]\n",
    "matrices_durations_ = [a[2] for a in matrices_drums_selected] #if a is not None and len(a[2].shape)==3 and a[3].shape[0] == a[0].shape[0]]\n",
    "matrices_genre_ids_ = [np.squeeze(a[3]) for a in matrices_drums_selected] #if a is not None and a[3].ndim==1 and a[3].shape[0] == a[0].shape[0]]\n",
    "\n",
    "matrices_drums = np.vstack(matrices_drums_)\n",
    "print (matrices_drums.shape)\n",
    "\n",
    "matrices_times = np.vstack(matrices_times_)\n",
    "print (matrices_times.shape)\n",
    "\n",
    "matrices_durations = np.vstack(matrices_durations_)\n",
    "print (matrices_durations.shape)\n",
    "\n",
    "matrices_genre_ids = np.hstack(matrices_genre_ids_)\n",
    "print (matrices_genre_ids.shape)\n",
    "\n",
    "# save\n",
    "os.makedirs(\"./tmp\", exist_ok=True)\n",
    "np.savez(\"./tmp/matrices_drum_groove.npz\", drum_data=matrices_drums, timeshift=matrices_times,\n",
    "         durations=matrices_durations, genre_ids=matrices_genre_ids, genres=GENRES)\n"
   ]
  },
  {
   "cell_type": "markdown",
   "metadata": {},
   "source": [
    "### Load preprocessed MIDI matrix"
   ]
  },
  {
   "cell_type": "code",
   "execution_count": null,
   "metadata": {},
   "outputs": [],
   "source": [
    "# import numpy as np\n",
    "\n",
    "# matrices_drums = np.load(\"./tmp/matrices_drum_groove.npz\")[\"drum_data\"]\n",
    "# matrices_times = np.load(\"./tmp/matrices_drum_groove.npz\")[\"timeshift\"]\n",
    "# matrices_durations = np.load(\"./tmp/matrices_drum_groove.npz\")[\"durations\"]\n",
    "\n",
    "# print (matrices_drums.shape)\n",
    "# print (matrices_times.shape)"
   ]
  },
  {
   "cell_type": "markdown",
   "metadata": {},
   "source": [
    "# VAE Model Definition"
   ]
  },
  {
   "cell_type": "code",
   "execution_count": 51,
   "metadata": {},
   "outputs": [],
   "source": [
    "from keras.layers import Layer\n",
    "\n",
    "# KL Divergence Loss Layer\n",
    "class KLDivergenceLayer(Layer):\n",
    "\n",
    "    def __init__(self, *args, **kwargs):\n",
    "        self.is_placeholder = True\n",
    "        super(KLDivergenceLayer, self).__init__(*args, **kwargs)\n",
    "        \n",
    "    def call(self, inputs):\n",
    "\n",
    "        mu, log_var = inputs\n",
    "\n",
    "        kl_batch = - .5 * K.sum(1 + log_var -\n",
    "                                K.square(mu) -\n",
    "                                K.exp(log_var), axis=-1)\n",
    "\n",
    "        self.add_loss(K.mean(kl_batch), inputs=inputs)\n",
    "\n",
    "        return inputs    "
   ]
  },
  {
   "cell_type": "code",
   "execution_count": 53,
   "metadata": {
    "scrolled": false
   },
   "outputs": [
    {
     "name": "stderr",
     "output_type": "stream",
     "text": [
      "WARNING: Logging before flag parsing goes to stderr.\n",
      "W0723 17:39:13.143459 4554200512 deprecation_wrapper.py:119] From /Users/nao/anaconda3/lib/python3.7/site-packages/keras/backend/tensorflow_backend.py:517: The name tf.placeholder is deprecated. Please use tf.compat.v1.placeholder instead.\n",
      "\n",
      "W0723 17:39:13.184642 4554200512 deprecation_wrapper.py:119] From /Users/nao/anaconda3/lib/python3.7/site-packages/keras/backend/tensorflow_backend.py:74: The name tf.get_default_graph is deprecated. Please use tf.compat.v1.get_default_graph instead.\n",
      "\n",
      "W0723 17:39:13.190716 4554200512 deprecation_wrapper.py:119] From /Users/nao/anaconda3/lib/python3.7/site-packages/keras/backend/tensorflow_backend.py:4138: The name tf.random_uniform is deprecated. Please use tf.random.uniform instead.\n",
      "\n",
      "W0723 17:39:16.596175 4554200512 deprecation_wrapper.py:119] From /Users/nao/anaconda3/lib/python3.7/site-packages/keras/backend/tensorflow_backend.py:4115: The name tf.random_normal is deprecated. Please use tf.random.normal instead.\n",
      "\n",
      "W0723 17:39:16.742543 4554200512 deprecation_wrapper.py:119] From /Users/nao/anaconda3/lib/python3.7/site-packages/keras/backend/tensorflow_backend.py:133: The name tf.placeholder_with_default is deprecated. Please use tf.compat.v1.placeholder_with_default instead.\n",
      "\n",
      "W0723 17:39:16.749113 4554200512 deprecation.py:506] From /Users/nao/anaconda3/lib/python3.7/site-packages/keras/backend/tensorflow_backend.py:3445: calling dropout (from tensorflow.python.ops.nn_ops) with keep_prob is deprecated and will be removed in a future version.\n",
      "Instructions for updating:\n",
      "Please use `rate` instead of `keep_prob`. Rate should be set to `rate = 1 - keep_prob`.\n"
     ]
    },
    {
     "name": "stdout",
     "output_type": "stream",
     "text": [
      "__________________________________________________________________________________________________\n",
      "Layer (type)                    Output Shape         Param #     Connected to                     \n",
      "==================================================================================================\n",
      "drum_input (InputLayer)         (None, 32, 9)        0                                            \n",
      "__________________________________________________________________________________________________\n",
      "timeshift_input (InputLayer)    (None, 32, 9)        0                                            \n",
      "__________________________________________________________________________________________________\n",
      "duration_input (InputLayer)     (None, 32, 9)        0                                            \n",
      "__________________________________________________________________________________________________\n",
      "bidirectional_1 (Bidirectional) (None, 32, 128)      37888       drum_input[0][0]                 \n",
      "__________________________________________________________________________________________________\n",
      "bidirectional_4 (Bidirectional) (None, 32, 128)      37888       timeshift_input[0][0]            \n",
      "__________________________________________________________________________________________________\n",
      "bidirectional_7 (Bidirectional) (None, 32, 128)      37888       duration_input[0][0]             \n",
      "__________________________________________________________________________________________________\n",
      "bidirectional_2 (Bidirectional) (None, 32, 256)      263168      bidirectional_1[0][0]            \n",
      "__________________________________________________________________________________________________\n",
      "bidirectional_5 (Bidirectional) (None, 32, 256)      263168      bidirectional_4[0][0]            \n",
      "__________________________________________________________________________________________________\n",
      "bidirectional_8 (Bidirectional) (None, 32, 256)      263168      bidirectional_7[0][0]            \n",
      "__________________________________________________________________________________________________\n",
      "bidirectional_3 (Bidirectional) (None, 32, 32)       34944       bidirectional_2[0][0]            \n",
      "__________________________________________________________________________________________________\n",
      "bidirectional_6 (Bidirectional) (None, 32, 32)       34944       bidirectional_5[0][0]            \n",
      "__________________________________________________________________________________________________\n",
      "bidirectional_9 (Bidirectional) (None, 32, 32)       34944       bidirectional_8[0][0]            \n",
      "__________________________________________________________________________________________________\n",
      "reshape_1 (Reshape)             (None, 1024)         0           bidirectional_3[0][0]            \n",
      "__________________________________________________________________________________________________\n",
      "reshape_2 (Reshape)             (None, 1024)         0           bidirectional_6[0][0]            \n",
      "__________________________________________________________________________________________________\n",
      "reshape_3 (Reshape)             (None, 1024)         0           bidirectional_9[0][0]            \n",
      "__________________________________________________________________________________________________\n",
      "concatenate_1 (Concatenate)     (None, 3072)         0           reshape_1[0][0]                  \n",
      "                                                                 reshape_2[0][0]                  \n",
      "                                                                 reshape_3[0][0]                  \n",
      "__________________________________________________________________________________________________\n",
      "dense_1 (Dense)                 (None, 1024)         3146752     concatenate_1[0][0]              \n",
      "__________________________________________________________________________________________________\n",
      "dense_2 (Dense)                 (None, 512)          524800      dense_1[0][0]                    \n",
      "__________________________________________________________________________________________________\n",
      "dense_3 (Dense)                 (None, 128)          65664       dense_2[0][0]                    \n",
      "__________________________________________________________________________________________________\n",
      "dense_4 (Dense)                 (None, 4)            516         dense_3[0][0]                    \n",
      "__________________________________________________________________________________________________\n",
      "dense_5 (Dense)                 (None, 4)            516         dense_3[0][0]                    \n",
      "__________________________________________________________________________________________________\n",
      "kl_divergence_layer_1 (KLDiverg [(None, 4), (None, 4 0           dense_4[0][0]                    \n",
      "                                                                 dense_5[0][0]                    \n",
      "__________________________________________________________________________________________________\n",
      "z (Lambda)                      (None, 4)            0           kl_divergence_layer_1[0][0]      \n",
      "                                                                 kl_divergence_layer_1[0][1]      \n",
      "==================================================================================================\n",
      "Total params: 4,746,248\n",
      "Trainable params: 4,746,248\n",
      "Non-trainable params: 0\n",
      "__________________________________________________________________________________________________\n",
      "__________________________________________________________________________________________________\n",
      "Layer (type)                    Output Shape         Param #     Connected to                     \n",
      "==================================================================================================\n",
      "z_sampling (InputLayer)         (None, 4)            0                                            \n",
      "__________________________________________________________________________________________________\n",
      "dense_6 (Dense)                 (None, 64)           320         z_sampling[0][0]                 \n",
      "__________________________________________________________________________________________________\n",
      "dropout_1 (Dropout)             (None, 64)           0           dense_6[0][0]                    \n",
      "__________________________________________________________________________________________________\n",
      "dense_7 (Dense)                 (None, 256)          16640       dropout_1[0][0]                  \n",
      "__________________________________________________________________________________________________\n",
      "dropout_2 (Dropout)             (None, 256)          0           dense_7[0][0]                    \n",
      "__________________________________________________________________________________________________\n",
      "dense_8 (Dense)                 (None, 512)          131584      dropout_2[0][0]                  \n",
      "__________________________________________________________________________________________________\n",
      "dropout_3 (Dropout)             (None, 512)          0           dense_8[0][0]                    \n",
      "__________________________________________________________________________________________________\n",
      "dense_9 (Dense)                 (None, 1024)         525312      dropout_3[0][0]                  \n",
      "__________________________________________________________________________________________________\n",
      "dense_12 (Dense)                (None, 1024)         525312      dense_8[0][0]                    \n",
      "__________________________________________________________________________________________________\n",
      "dense_15 (Dense)                (None, 1024)         525312      dense_8[0][0]                    \n",
      "__________________________________________________________________________________________________\n",
      "dropout_4 (Dropout)             (None, 1024)         0           dense_9[0][0]                    \n",
      "__________________________________________________________________________________________________\n",
      "dropout_6 (Dropout)             (None, 1024)         0           dense_12[0][0]                   \n",
      "__________________________________________________________________________________________________\n",
      "dropout_8 (Dropout)             (None, 1024)         0           dense_15[0][0]                   \n",
      "__________________________________________________________________________________________________\n",
      "dense_10 (Dense)                (None, 512)          524800      dropout_4[0][0]                  \n",
      "__________________________________________________________________________________________________\n",
      "dense_13 (Dense)                (None, 512)          524800      dropout_6[0][0]                  \n",
      "__________________________________________________________________________________________________\n",
      "dense_16 (Dense)                (None, 512)          524800      dropout_8[0][0]                  \n",
      "__________________________________________________________________________________________________\n",
      "dropout_5 (Dropout)             (None, 512)          0           dense_10[0][0]                   \n",
      "__________________________________________________________________________________________________\n",
      "dropout_7 (Dropout)             (None, 512)          0           dense_13[0][0]                   \n",
      "__________________________________________________________________________________________________\n",
      "dropout_9 (Dropout)             (None, 512)          0           dense_16[0][0]                   \n",
      "__________________________________________________________________________________________________\n",
      "dense_11 (Dense)                (None, 288)          147744      dropout_5[0][0]                  \n",
      "__________________________________________________________________________________________________\n",
      "dense_14 (Dense)                (None, 288)          147744      dropout_7[0][0]                  \n",
      "__________________________________________________________________________________________________\n",
      "dense_17 (Dense)                (None, 288)          147744      dropout_9[0][0]                  \n",
      "__________________________________________________________________________________________________\n",
      "note_output (Reshape)           (None, 32, 9)        0           dense_11[0][0]                   \n",
      "__________________________________________________________________________________________________\n",
      "time_output (Reshape)           (None, 32, 9)        0           dense_14[0][0]                   \n",
      "__________________________________________________________________________________________________\n",
      "duration_output (Reshape)       (None, 32, 9)        0           dense_17[0][0]                   \n",
      "==================================================================================================\n",
      "Total params: 3,742,112\n",
      "Trainable params: 3,742,112\n",
      "Non-trainable params: 0\n",
      "__________________________________________________________________________________________________\n"
     ]
    },
    {
     "name": "stdout",
     "output_type": "stream",
     "text": [
      "__________________________________________________________________________________________________\n",
      "Layer (type)                    Output Shape         Param #     Connected to                     \n",
      "==================================================================================================\n",
      "drum_input (InputLayer)         (None, 32, 9)        0                                            \n",
      "__________________________________________________________________________________________________\n",
      "timeshift_input (InputLayer)    (None, 32, 9)        0                                            \n",
      "__________________________________________________________________________________________________\n",
      "duration_input (InputLayer)     (None, 32, 9)        0                                            \n",
      "__________________________________________________________________________________________________\n",
      "encoder (Model)                 [(None, 4), (None, 4 4746248     drum_input[0][0]                 \n",
      "                                                                 timeshift_input[0][0]            \n",
      "                                                                 duration_input[0][0]             \n",
      "__________________________________________________________________________________________________\n",
      "decoder (Model)                 [(None, 32, 9), (Non 3742112     encoder[1][2]                    \n",
      "==================================================================================================\n",
      "Total params: 8,488,360\n",
      "Trainable params: 8,488,360\n",
      "Non-trainable params: 0\n",
      "__________________________________________________________________________________________________\n"
     ]
    }
   ],
   "source": [
    "import numpy as np\n",
    "from keras.layers import Input, Dense, Flatten, Dropout, Reshape, LSTM, Bidirectional, Lambda, Concatenate\n",
    "from keras.layers.convolutional import Conv2D\n",
    "\n",
    "from keras.layers.normalization import BatchNormalization\n",
    "from keras.layers.advanced_activations import LeakyReLU\n",
    "from keras.optimizers import RMSprop, Adam\n",
    "import keras.backend as K\n",
    "from keras.models import Model, Sequential\n",
    "\n",
    "# constants\n",
    "batch_size = 16\n",
    "n_z = 4\n",
    "dropout_rate = 0.30\n",
    "\n",
    "# Encoder\n",
    "# input for onsets\n",
    "drum_input = Input(shape=(len_seq, nb_notes), name='drum_input')  # tensorflow order\n",
    "x = Bidirectional(LSTM(64, return_sequences=True, activation='tanh'))(drum_input) \n",
    "x = Bidirectional(LSTM(128, return_sequences=True, activation='tanh'))(x)\n",
    "x = Bidirectional(LSTM(16, return_sequences=True, activation='tanh'))(x)\n",
    "x1 = Reshape((1024,))(x)\n",
    "\n",
    "# input for timeshifts\n",
    "timeshift_input = Input(shape=(len_seq, nb_notes), name='timeshift_input')  # tensorflow order\n",
    "x = Bidirectional(LSTM(64, return_sequences=True, activation='tanh'))(timeshift_input) \n",
    "x = Bidirectional(LSTM(128, return_sequences=True, activation='tanh'))(x)\n",
    "x = Bidirectional(LSTM(16, return_sequences=True, activation='tanh'))(x)\n",
    "x2 = Reshape((1024,))(x)\n",
    "\n",
    "# input for duration\n",
    "duration_input = Input(shape=(len_seq, nb_notes), name='duration_input')  # tensorflow order\n",
    "x = Bidirectional(LSTM(64, return_sequences=True, activation='tanh'))(duration_input) \n",
    "x = Bidirectional(LSTM(128, return_sequences=True, activation='tanh'))(x)\n",
    "x = Bidirectional(LSTM(16, return_sequences=True, activation='tanh'))(x)\n",
    "x3 = Reshape((1024,))(x)\n",
    "\n",
    "x_merged =  Concatenate()([x1, x2, x3])\n",
    "x = Dense(1024, activation='relu')(x_merged)\n",
    "x = Dense(512, activation='relu')(x)\n",
    "x = Dense(128, activation='relu')(x)\n",
    "\n",
    "# VAE \n",
    "mu = Dense(n_z, activation='linear')(x)\n",
    "log_sigma = Dense(n_z, activation='linear')(x)\n",
    "\n",
    "# KL Divergence\n",
    "mu, log_sigma = KLDivergenceLayer()([mu, log_sigma])\n",
    "\n",
    "# Sampling for Z\n",
    "def sample_z(args):\n",
    "    \n",
    "    mu, log_sigma = args\n",
    "    \n",
    "    batch = K.shape(mu)[0]\n",
    "    dim = K.int_shape(mu)[1]\n",
    "    \n",
    "    eps = K.random_normal(shape=(batch, dim), mean=0., stddev=1.)\n",
    "\n",
    "    return mu + K.exp(log_sigma / 2.) * eps\n",
    "\n",
    "z = Lambda(sample_z, output_shape=(n_z,), name='z')([mu, log_sigma])\n",
    "\n",
    "encoder = Model([drum_input, timeshift_input, duration_input], [mu, log_sigma, z], name='encoder')\n",
    "encoder.summary()\n",
    "\n",
    "# Decoder\n",
    "latent_inputs = Input(shape=(n_z,), name='z_sampling')\n",
    "\n",
    "# output for onsets\n",
    "x = Dense(64, activation='relu')(latent_inputs)\n",
    "x = Dropout(dropout_rate)(x)\n",
    "x = Dense(256, activation='relu')(x)\n",
    "x = Dropout(dropout_rate)(x)\n",
    "x1 = Dense(512, activation='relu')(x)\n",
    "\n",
    "x = Dropout(dropout_rate)(x1)\n",
    "x = Dense(1024, activation='relu')(x)\n",
    "x = Dropout(dropout_rate)(x)\n",
    "x = Dense(512, activation='relu')(x)\n",
    "x = Dropout(dropout_rate)(x)\n",
    "x = Dense(288, activation='sigmoid')(x) # output range shoud be 0. - 1.\n",
    "note_out = Reshape((len_seq, nb_notes), name='note_output')(x)\n",
    "\n",
    "# output for timeshift\n",
    "x = Dense(1024, activation='relu')(x1)\n",
    "x = Dropout(dropout_rate)(x)\n",
    "x = Dense(512, activation='relu')(x)\n",
    "x = Dropout(dropout_rate)(x)\n",
    "x = Dense(288, activation='tanh')(x) # output range shoud be -1. - 1.\n",
    "time_out = Reshape((len_seq, nb_notes), name='time_output')(x)\n",
    "\n",
    "# output for duration\n",
    "x = Dense(1024, activation='relu')(x1)\n",
    "x = Dropout(dropout_rate)(x)\n",
    "x = Dense(512, activation='relu')(x)\n",
    "x = Dropout(dropout_rate)(x)\n",
    "x = Dense(288, activation='sigmoid')(x) # output range shoud be -1. - 1.\n",
    "duration_out = Reshape((len_seq, nb_notes), name='duration_output')(x)\n",
    "\n",
    "decoder = Model(latent_inputs, [note_out, time_out, duration_out], name='decoder')\n",
    "decoder.summary()\n",
    "\n",
    "# VAE model\n",
    "inputs = [drum_input,timeshift_input, duration_input]\n",
    "outputs = decoder(encoder(inputs)[2])\n",
    "\n",
    "vae = Model(inputs, outputs, name='VAE')\n",
    "vae.summary()\n"
   ]
  },
  {
   "cell_type": "code",
   "execution_count": 54,
   "metadata": {
    "scrolled": false
   },
   "outputs": [
    {
     "name": "stdout",
     "output_type": "stream",
     "text": [
      "[[ 1.08205225 -0.85115243 -0.70084623 -1.95948441]]\n",
      "(1, 32, 9) (1, 32, 9)\n"
     ]
    },
    {
     "data": {
      "image/png": "[encoded data removed]",
      "text/plain": [
       "<Figure size 1024x288 with 1 Axes>"
      ]
     },
     "metadata": {
      "needs_background": "light"
     },
     "output_type": "display_data"
    },
    {
     "data": {
      "image/png": "[encoded data removed]",
      "text/plain": [
       "<Figure size 1024x288 with 1 Axes>"
      ]
     },
     "metadata": {
      "needs_background": "light"
     },
     "output_type": "display_data"
    },
    {
     "data": {
      "image/png": "[encoded data removed]",
      "text/plain": [
       "<Figure size 1024x288 with 1 Axes>"
      ]
     },
     "metadata": {
      "needs_background": "light"
     },
     "output_type": "display_data"
    }
   ],
   "source": [
    "# Test \n",
    "for i in range(1):\n",
    "    random_z = np.random.normal(0.0, 1.0, (1, n_z))\n",
    "    print (random_z)\n",
    "    a,t,d = decoder.predict(random_z)\n",
    "    print (a.shape, t.shape)\n",
    "    plot_drum_matrix(a) # onsets\n",
    "    plot_drum_matrix(t) # timeshifts\n",
    "    plot_drum_matrix(d) # durations\n"
   ]
  },
  {
   "cell_type": "markdown",
   "metadata": {},
   "source": [
    "# Training"
   ]
  },
  {
   "cell_type": "code",
   "execution_count": 55,
   "metadata": {},
   "outputs": [],
   "source": [
    "\n",
    "from keras.losses import mse, binary_crossentropy\n",
    "\n",
    "def nll_loss(y_true, y_pred):\n",
    "    \"\"\" Calculate loss = reconstruction loss + KL loss for eatch data in minibatch \"\"\"\n",
    "    # reconstruction loss\n",
    "    bc = K.binary_crossentropy(y_true, y_pred) \n",
    "    recon = K.sum( K.sum(bc, axis=-1), axis=-1)\n",
    "    return recon"
   ]
  },
  {
   "cell_type": "code",
   "execution_count": 56,
   "metadata": {
    "scrolled": false
   },
   "outputs": [
    {
     "name": "stderr",
     "output_type": "stream",
     "text": [
      "W0723 17:39:33.152168 4554200512 deprecation_wrapper.py:119] From /Users/nao/anaconda3/lib/python3.7/site-packages/keras/optimizers.py:790: The name tf.train.Optimizer is deprecated. Please use tf.compat.v1.train.Optimizer instead.\n",
      "\n",
      "W0723 17:39:33.176584 4554200512 deprecation.py:323] From /Users/nao/anaconda3/lib/python3.7/site-packages/tensorflow/python/ops/nn_impl.py:180: add_dispatch_support.<locals>.wrapper (from tensorflow.python.ops.array_ops) is deprecated and will be removed in a future version.\n",
      "Instructions for updating:\n",
      "Use tf.where in 2.0, which has the same broadcast rule as np.where\n"
     ]
    },
    {
     "name": "stdout",
     "output_type": "stream",
     "text": [
      "Train on 15789 samples, validate on 831 samples\n",
      "Epoch 1/100\n",
      "15789/15789 [==============================] - 125s 8ms/step - loss: 66.4449 - decoder_loss: 50.7727 - decoder_mean_squared_error: 0.0396 - decoder_mean_squared_error_1: 0.4249 - decoder_mean_squared_error_2: 0.0176 - val_loss: 82.8074 - val_decoder_loss: 37.6347 - val_decoder_mean_squared_error: 0.0403 - val_decoder_mean_squared_error_1: 0.3720 - val_decoder_mean_squared_error_2: 0.0108\n",
      "Epoch 2/100\n",
      "15789/15789 [==============================] - 114s 7ms/step - loss: 57.1767 - decoder_loss: 45.2008 - decoder_mean_squared_error: 0.0342 - decoder_mean_squared_error_1: 0.4342 - decoder_mean_squared_error_2: 0.0129 - val_loss: 75.8683 - val_decoder_loss: 34.1954 - val_decoder_mean_squared_error: 0.0349 - val_decoder_mean_squared_error_1: 0.3815 - val_decoder_mean_squared_error_2: 0.0093\n",
      "Epoch 3/100\n",
      "15789/15789 [==============================] - 127s 8ms/step - loss: 53.1799 - decoder_loss: 42.8844 - decoder_mean_squared_error: 0.0315 - decoder_mean_squared_error_1: 0.3699 - decoder_mean_squared_error_2: 0.0119 - val_loss: 71.3097 - val_decoder_loss: 32.1142 - val_decoder_mean_squared_error: 0.0324 - val_decoder_mean_squared_error_1: 0.2833 - val_decoder_mean_squared_error_2: 0.0084\n",
      "\n",
      "Epoch 00003: val_loss improved from inf to 71.30973, saving model to ./tmp/vae_03-71.31.hdf5\n",
      "Epoch 4/100\n",
      "15789/15789 [==============================] - 127s 8ms/step - loss: 51.7421 - decoder_loss: 42.0910 - decoder_mean_squared_error: 0.0305 - decoder_mean_squared_error_1: 0.3915 - decoder_mean_squared_error_2: 0.0115 - val_loss: 71.3301 - val_decoder_loss: 32.5993 - val_decoder_mean_squared_error: 0.0323 - val_decoder_mean_squared_error_1: 0.4932 - val_decoder_mean_squared_error_2: 0.0088\n",
      "Epoch 5/100\n",
      "15789/15789 [==============================] - 107s 7ms/step - loss: 50.8889 - decoder_loss: 41.5897 - decoder_mean_squared_error: 0.0299 - decoder_mean_squared_error_1: 0.5332 - decoder_mean_squared_error_2: 0.0113 - val_loss: 70.3179 - val_decoder_loss: 31.9608 - val_decoder_mean_squared_error: 0.0315 - val_decoder_mean_squared_error_1: 0.4705 - val_decoder_mean_squared_error_2: 0.0085\n",
      "Epoch 6/100\n",
      "15789/15789 [==============================] - 98s 6ms/step - loss: 50.4110 - decoder_loss: 41.3507 - decoder_mean_squared_error: 0.0296 - decoder_mean_squared_error_1: 0.5121 - decoder_mean_squared_error_2: 0.0111 - val_loss: 70.0852 - val_decoder_loss: 31.8599 - val_decoder_mean_squared_error: 0.0312 - val_decoder_mean_squared_error_1: 0.4672 - val_decoder_mean_squared_error_2: 0.0085\n",
      "\n",
      "Epoch 00006: val_loss improved from 71.30973 to 70.08523, saving model to ./tmp/vae_06-70.09.hdf5\n",
      "Epoch 7/100\n",
      "15789/15789 [==============================] - 101s 6ms/step - loss: 49.9368 - decoder_loss: 41.1233 - decoder_mean_squared_error: 0.0292 - decoder_mean_squared_error_1: 0.5025 - decoder_mean_squared_error_2: 0.0110 - val_loss: 70.7441 - val_decoder_loss: 32.4486 - val_decoder_mean_squared_error: 0.0315 - val_decoder_mean_squared_error_1: 0.4527 - val_decoder_mean_squared_error_2: 0.0088\n",
      "Epoch 8/100\n",
      "15789/15789 [==============================] - 108s 7ms/step - loss: 49.5832 - decoder_loss: 40.9068 - decoder_mean_squared_error: 0.0288 - decoder_mean_squared_error_1: 0.4998 - decoder_mean_squared_error_2: 0.0109 - val_loss: 70.5319 - val_decoder_loss: 32.1929 - val_decoder_mean_squared_error: 0.0314 - val_decoder_mean_squared_error_1: 0.4304 - val_decoder_mean_squared_error_2: 0.0086\n",
      "Epoch 9/100\n",
      "15789/15789 [==============================] - 111s 7ms/step - loss: 49.1439 - decoder_loss: 40.6550 - decoder_mean_squared_error: 0.0285 - decoder_mean_squared_error_1: 0.4889 - decoder_mean_squared_error_2: 0.0108 - val_loss: 70.1216 - val_decoder_loss: 31.7341 - val_decoder_mean_squared_error: 0.0311 - val_decoder_mean_squared_error_1: 0.4249 - val_decoder_mean_squared_error_2: 0.0083\n",
      "\n",
      "Epoch 00009: val_loss did not improve from 70.08523\n",
      "Epoch 10/100\n",
      "15789/15789 [==============================] - 95s 6ms/step - loss: 48.7591 - decoder_loss: 40.4447 - decoder_mean_squared_error: 0.0282 - decoder_mean_squared_error_1: 0.4810 - decoder_mean_squared_error_2: 0.0107 - val_loss: 69.7841 - val_decoder_loss: 31.5674 - val_decoder_mean_squared_error: 0.0305 - val_decoder_mean_squared_error_1: 0.4441 - val_decoder_mean_squared_error_2: 0.0082\n",
      "Epoch 11/100\n",
      "15789/15789 [==============================] - 98s 6ms/step - loss: 48.5163 - decoder_loss: 40.2952 - decoder_mean_squared_error: 0.0279 - decoder_mean_squared_error_1: 0.4826 - decoder_mean_squared_error_2: 0.0106 - val_loss: 70.7695 - val_decoder_loss: 32.1768 - val_decoder_mean_squared_error: 0.0316 - val_decoder_mean_squared_error_1: 0.3949 - val_decoder_mean_squared_error_2: 0.0086\n",
      "Epoch 12/100\n",
      "15789/15789 [==============================] - 92s 6ms/step - loss: 48.2109 - decoder_loss: 40.1227 - decoder_mean_squared_error: 0.0276 - decoder_mean_squared_error_1: 0.4782 - decoder_mean_squared_error_2: 0.0105 - val_loss: 69.7107 - val_decoder_loss: 31.6538 - val_decoder_mean_squared_error: 0.0303 - val_decoder_mean_squared_error_1: 0.4462 - val_decoder_mean_squared_error_2: 0.0083\n",
      "\n",
      "Epoch 00012: val_loss improved from 70.08523 to 69.71070, saving model to ./tmp/vae_12-69.71.hdf5\n",
      "Epoch 13/100\n",
      "15789/15789 [==============================] - 92s 6ms/step - loss: 47.9880 - decoder_loss: 40.0010 - decoder_mean_squared_error: 0.0275 - decoder_mean_squared_error_1: 0.4797 - decoder_mean_squared_error_2: 0.0104 - val_loss: 69.7276 - val_decoder_loss: 31.5136 - val_decoder_mean_squared_error: 0.0305 - val_decoder_mean_squared_error_1: 0.3848 - val_decoder_mean_squared_error_2: 0.0082\n",
      "Epoch 14/100\n",
      "15789/15789 [==============================] - 94s 6ms/step - loss: 47.7176 - decoder_loss: 39.8694 - decoder_mean_squared_error: 0.0272 - decoder_mean_squared_error_1: 0.4798 - decoder_mean_squared_error_2: 0.0103 - val_loss: 70.4172 - val_decoder_loss: 31.5052 - val_decoder_mean_squared_error: 0.0312 - val_decoder_mean_squared_error_1: 0.3979 - val_decoder_mean_squared_error_2: 0.0082\n",
      "Epoch 15/100\n",
      "15789/15789 [==============================] - 93s 6ms/step - loss: 47.4859 - decoder_loss: 39.7214 - decoder_mean_squared_error: 0.0270 - decoder_mean_squared_error_1: 0.4879 - decoder_mean_squared_error_2: 0.0102 - val_loss: 70.0161 - val_decoder_loss: 31.5524 - val_decoder_mean_squared_error: 0.0309 - val_decoder_mean_squared_error_1: 0.4205 - val_decoder_mean_squared_error_2: 0.0083\n",
      "\n",
      "Epoch 00015: val_loss did not improve from 69.71070\n",
      "Epoch 16/100\n",
      "15789/15789 [==============================] - 92s 6ms/step - loss: 47.2068 - decoder_loss: 39.5849 - decoder_mean_squared_error: 0.0268 - decoder_mean_squared_error_1: 0.5066 - decoder_mean_squared_error_2: 0.0101 - val_loss: 69.4832 - val_decoder_loss: 31.3519 - val_decoder_mean_squared_error: 0.0301 - val_decoder_mean_squared_error_1: 0.4409 - val_decoder_mean_squared_error_2: 0.0081\n",
      "Epoch 17/100\n",
      "15789/15789 [==============================] - 92s 6ms/step - loss: 46.9658 - decoder_loss: 39.4616 - decoder_mean_squared_error: 0.0266 - decoder_mean_squared_error_1: 0.5108 - decoder_mean_squared_error_2: 0.0101 - val_loss: 70.4040 - val_decoder_loss: 31.6411 - val_decoder_mean_squared_error: 0.0311 - val_decoder_mean_squared_error_1: 0.4363 - val_decoder_mean_squared_error_2: 0.0083\n",
      "Epoch 18/100\n",
      "15789/15789 [==============================] - 93s 6ms/step - loss: 46.8330 - decoder_loss: 39.3563 - decoder_mean_squared_error: 0.0264 - decoder_mean_squared_error_1: 0.5161 - decoder_mean_squared_error_2: 0.0100 - val_loss: 70.1982 - val_decoder_loss: 31.6116 - val_decoder_mean_squared_error: 0.0304 - val_decoder_mean_squared_error_1: 0.4550 - val_decoder_mean_squared_error_2: 0.0083\n",
      "\n",
      "Epoch 00018: val_loss did not improve from 69.71070\n",
      "Epoch 19/100\n",
      "15789/15789 [==============================] - 92s 6ms/step - loss: 46.7518 - decoder_loss: 39.2638 - decoder_mean_squared_error: 0.0263 - decoder_mean_squared_error_1: 0.5217 - decoder_mean_squared_error_2: 0.0100 - val_loss: 70.2171 - val_decoder_loss: 31.9046 - val_decoder_mean_squared_error: 0.0309 - val_decoder_mean_squared_error_1: 0.4348 - val_decoder_mean_squared_error_2: 0.0084\n",
      "Epoch 20/100\n"
     ]
    },
    {
     "name": "stdout",
     "output_type": "stream",
     "text": [
      "15789/15789 [==============================] - 104s 7ms/step - loss: 46.3880 - decoder_loss: 39.0956 - decoder_mean_squared_error: 0.0260 - decoder_mean_squared_error_1: 0.5320 - decoder_mean_squared_error_2: 0.0099 - val_loss: 69.6159 - val_decoder_loss: 31.5601 - val_decoder_mean_squared_error: 0.0303 - val_decoder_mean_squared_error_1: 0.4580 - val_decoder_mean_squared_error_2: 0.0083\n",
      "Epoch 21/100\n",
      "15789/15789 [==============================] - 96s 6ms/step - loss: 46.2155 - decoder_loss: 38.9838 - decoder_mean_squared_error: 0.0258 - decoder_mean_squared_error_1: 0.5343 - decoder_mean_squared_error_2: 0.0098 - val_loss: 69.1530 - val_decoder_loss: 31.3307 - val_decoder_mean_squared_error: 0.0298 - val_decoder_mean_squared_error_1: 0.4729 - val_decoder_mean_squared_error_2: 0.0082\n",
      "\n",
      "Epoch 00021: val_loss improved from 69.71070 to 69.15304, saving model to ./tmp/vae_21-69.15.hdf5\n",
      "Epoch 22/100\n",
      "15789/15789 [==============================] - 102s 6ms/step - loss: 46.0672 - decoder_loss: 38.9093 - decoder_mean_squared_error: 0.0257 - decoder_mean_squared_error_1: 0.5376 - decoder_mean_squared_error_2: 0.0098 - val_loss: 69.2627 - val_decoder_loss: 31.2798 - val_decoder_mean_squared_error: 0.0297 - val_decoder_mean_squared_error_1: 0.4622 - val_decoder_mean_squared_error_2: 0.0081\n",
      "Epoch 23/100\n",
      "15789/15789 [==============================] - 147s 9ms/step - loss: 45.9668 - decoder_loss: 38.8212 - decoder_mean_squared_error: 0.0255 - decoder_mean_squared_error_1: 0.5424 - decoder_mean_squared_error_2: 0.0097 - val_loss: 70.0475 - val_decoder_loss: 31.5120 - val_decoder_mean_squared_error: 0.0301 - val_decoder_mean_squared_error_1: 0.4621 - val_decoder_mean_squared_error_2: 0.0081\n",
      "Epoch 24/100\n",
      "15789/15789 [==============================] - 133s 8ms/step - loss: 45.7699 - decoder_loss: 38.7477 - decoder_mean_squared_error: 0.0253 - decoder_mean_squared_error_1: 0.5485 - decoder_mean_squared_error_2: 0.0097 - val_loss: 68.6891 - val_decoder_loss: 31.2162 - val_decoder_mean_squared_error: 0.0294 - val_decoder_mean_squared_error_1: 0.4969 - val_decoder_mean_squared_error_2: 0.0082\n",
      "\n",
      "Epoch 00024: val_loss improved from 69.15304 to 68.68906, saving model to ./tmp/vae_24-68.69.hdf5\n",
      "Epoch 25/100\n",
      "15789/15789 [==============================] - 120s 8ms/step - loss: 45.5833 - decoder_loss: 38.6546 - decoder_mean_squared_error: 0.0252 - decoder_mean_squared_error_1: 0.5440 - decoder_mean_squared_error_2: 0.0096 - val_loss: 69.0498 - val_decoder_loss: 31.3055 - val_decoder_mean_squared_error: 0.0293 - val_decoder_mean_squared_error_1: 0.5131 - val_decoder_mean_squared_error_2: 0.0081\n",
      "Epoch 26/100\n",
      "15789/15789 [==============================] - 107s 7ms/step - loss: 45.5644 - decoder_loss: 38.6414 - decoder_mean_squared_error: 0.0251 - decoder_mean_squared_error_1: 0.5456 - decoder_mean_squared_error_2: 0.0096 - val_loss: 69.0434 - val_decoder_loss: 31.2574 - val_decoder_mean_squared_error: 0.0297 - val_decoder_mean_squared_error_1: 0.5127 - val_decoder_mean_squared_error_2: 0.0083\n",
      "Epoch 27/100\n",
      "15789/15789 [==============================] - 109s 7ms/step - loss: 45.2957 - decoder_loss: 38.5102 - decoder_mean_squared_error: 0.0249 - decoder_mean_squared_error_1: 0.5462 - decoder_mean_squared_error_2: 0.0095 - val_loss: 69.0182 - val_decoder_loss: 31.1020 - val_decoder_mean_squared_error: 0.0294 - val_decoder_mean_squared_error_1: 0.4822 - val_decoder_mean_squared_error_2: 0.0080\n",
      "\n",
      "Epoch 00027: val_loss did not improve from 68.68906\n",
      "Epoch 28/100\n",
      "15789/15789 [==============================] - 102s 6ms/step - loss: 45.2229 - decoder_loss: 38.4740 - decoder_mean_squared_error: 0.0249 - decoder_mean_squared_error_1: 0.5583 - decoder_mean_squared_error_2: 0.0095 - val_loss: 68.9479 - val_decoder_loss: 31.1726 - val_decoder_mean_squared_error: 0.0293 - val_decoder_mean_squared_error_1: 0.4703 - val_decoder_mean_squared_error_2: 0.0081\n",
      "Epoch 29/100\n",
      "15789/15789 [==============================] - 95s 6ms/step - loss: 45.1643 - decoder_loss: 38.4046 - decoder_mean_squared_error: 0.0248 - decoder_mean_squared_error_1: 0.5554 - decoder_mean_squared_error_2: 0.0095 - val_loss: 69.3633 - val_decoder_loss: 31.2862 - val_decoder_mean_squared_error: 0.0296 - val_decoder_mean_squared_error_1: 0.4749 - val_decoder_mean_squared_error_2: 0.0083\n",
      "Epoch 30/100\n",
      "15789/15789 [==============================] - 106s 7ms/step - loss: 45.0526 - decoder_loss: 38.3305 - decoder_mean_squared_error: 0.0247 - decoder_mean_squared_error_1: 0.5529 - decoder_mean_squared_error_2: 0.0094 - val_loss: 69.7028 - val_decoder_loss: 31.5928 - val_decoder_mean_squared_error: 0.0300 - val_decoder_mean_squared_error_1: 0.4581 - val_decoder_mean_squared_error_2: 0.0084\n",
      "\n",
      "Epoch 00030: val_loss did not improve from 68.68906\n",
      "Epoch 31/100\n",
      "15789/15789 [==============================] - 119s 8ms/step - loss: 44.9640 - decoder_loss: 38.3148 - decoder_mean_squared_error: 0.0246 - decoder_mean_squared_error_1: 0.5572 - decoder_mean_squared_error_2: 0.0094 - val_loss: 69.6519 - val_decoder_loss: 31.3210 - val_decoder_mean_squared_error: 0.0301 - val_decoder_mean_squared_error_1: 0.4729 - val_decoder_mean_squared_error_2: 0.0083\n",
      "Epoch 32/100\n",
      "15789/15789 [==============================] - 111s 7ms/step - loss: 45.0535 - decoder_loss: 38.2839 - decoder_mean_squared_error: 0.0246 - decoder_mean_squared_error_1: 0.5548 - decoder_mean_squared_error_2: 0.0094 - val_loss: 69.7217 - val_decoder_loss: 31.4296 - val_decoder_mean_squared_error: 0.0298 - val_decoder_mean_squared_error_1: 0.4771 - val_decoder_mean_squared_error_2: 0.0082\n",
      "Epoch 33/100\n",
      "15789/15789 [==============================] - 105s 7ms/step - loss: 44.8169 - decoder_loss: 38.2067 - decoder_mean_squared_error: 0.0245 - decoder_mean_squared_error_1: 0.5674 - decoder_mean_squared_error_2: 0.0094 - val_loss: 69.1736 - val_decoder_loss: 31.2842 - val_decoder_mean_squared_error: 0.0296 - val_decoder_mean_squared_error_1: 0.5081 - val_decoder_mean_squared_error_2: 0.0083\n",
      "\n",
      "Epoch 00033: val_loss did not improve from 68.68906\n",
      "Epoch 34/100\n",
      "15789/15789 [==============================] - 124s 8ms/step - loss: 44.7018 - decoder_loss: 38.1341 - decoder_mean_squared_error: 0.0244 - decoder_mean_squared_error_1: 0.5732 - decoder_mean_squared_error_2: 0.0093 - val_loss: 69.3623 - val_decoder_loss: 31.1276 - val_decoder_mean_squared_error: 0.0299 - val_decoder_mean_squared_error_1: 0.5489 - val_decoder_mean_squared_error_2: 0.0081\n",
      "Epoch 35/100\n",
      "15789/15789 [==============================] - 121s 8ms/step - loss: 44.6108 - decoder_loss: 38.0935 - decoder_mean_squared_error: 0.0243 - decoder_mean_squared_error_1: 0.5986 - decoder_mean_squared_error_2: 0.0093 - val_loss: 69.0242 - val_decoder_loss: 31.1314 - val_decoder_mean_squared_error: 0.0297 - val_decoder_mean_squared_error_1: 0.5980 - val_decoder_mean_squared_error_2: 0.0081\n",
      "Epoch 36/100\n",
      "15789/15789 [==============================] - 108s 7ms/step - loss: 44.5012 - decoder_loss: 38.0046 - decoder_mean_squared_error: 0.0242 - decoder_mean_squared_error_1: 0.6501 - decoder_mean_squared_error_2: 0.0093 - val_loss: 68.4923 - val_decoder_loss: 30.8693 - val_decoder_mean_squared_error: 0.0292 - val_decoder_mean_squared_error_1: 0.6225 - val_decoder_mean_squared_error_2: 0.0079\n",
      "\n",
      "Epoch 00036: val_loss improved from 68.68906 to 68.49232, saving model to ./tmp/vae_36-68.49.hdf5\n",
      "Epoch 37/100\n",
      "15789/15789 [==============================] - 104s 7ms/step - loss: 44.3458 - decoder_loss: 37.9665 - decoder_mean_squared_error: 0.0241 - decoder_mean_squared_error_1: 0.6678 - decoder_mean_squared_error_2: 0.0092 - val_loss: 70.3972 - val_decoder_loss: 31.3704 - val_decoder_mean_squared_error: 0.0305 - val_decoder_mean_squared_error_1: 0.5834 - val_decoder_mean_squared_error_2: 0.0082\n",
      "Epoch 38/100\n",
      "15789/15789 [==============================] - 105s 7ms/step - loss: 44.3229 - decoder_loss: 37.9186 - decoder_mean_squared_error: 0.0240 - decoder_mean_squared_error_1: 0.6716 - decoder_mean_squared_error_2: 0.0092 - val_loss: 69.5765 - val_decoder_loss: 31.1947 - val_decoder_mean_squared_error: 0.0300 - val_decoder_mean_squared_error_1: 0.6072 - val_decoder_mean_squared_error_2: 0.0081\n",
      "Epoch 39/100\n"
     ]
    },
    {
     "name": "stdout",
     "output_type": "stream",
     "text": [
      "15789/15789 [==============================] - 118s 7ms/step - loss: 44.2796 - decoder_loss: 37.8915 - decoder_mean_squared_error: 0.0240 - decoder_mean_squared_error_1: 0.6827 - decoder_mean_squared_error_2: 0.0092 - val_loss: 69.0162 - val_decoder_loss: 31.0741 - val_decoder_mean_squared_error: 0.0294 - val_decoder_mean_squared_error_1: 0.6586 - val_decoder_mean_squared_error_2: 0.0080\n",
      "\n",
      "Epoch 00039: val_loss did not improve from 68.49232\n",
      "Epoch 40/100\n",
      "15789/15789 [==============================] - 133s 8ms/step - loss: 44.1907 - decoder_loss: 37.8563 - decoder_mean_squared_error: 0.0238 - decoder_mean_squared_error_1: 0.6815 - decoder_mean_squared_error_2: 0.0092 - val_loss: 68.8982 - val_decoder_loss: 31.0499 - val_decoder_mean_squared_error: 0.0293 - val_decoder_mean_squared_error_1: 0.6467 - val_decoder_mean_squared_error_2: 0.0081\n",
      "Epoch 41/100\n",
      "15789/15789 [==============================] - 134s 9ms/step - loss: 44.1554 - decoder_loss: 37.8214 - decoder_mean_squared_error: 0.0238 - decoder_mean_squared_error_1: 0.6920 - decoder_mean_squared_error_2: 0.0092 - val_loss: 68.9476 - val_decoder_loss: 31.1092 - val_decoder_mean_squared_error: 0.0292 - val_decoder_mean_squared_error_1: 0.6690 - val_decoder_mean_squared_error_2: 0.0080\n",
      "Epoch 42/100\n",
      "15789/15789 [==============================] - 113s 7ms/step - loss: 44.1387 - decoder_loss: 37.8039 - decoder_mean_squared_error: 0.0238 - decoder_mean_squared_error_1: 0.7007 - decoder_mean_squared_error_2: 0.0091 - val_loss: 69.2902 - val_decoder_loss: 31.3115 - val_decoder_mean_squared_error: 0.0295 - val_decoder_mean_squared_error_1: 0.6460 - val_decoder_mean_squared_error_2: 0.0082\n",
      "\n",
      "Epoch 00042: val_loss did not improve from 68.49232\n",
      "Epoch 43/100\n",
      "15789/15789 [==============================] - 100s 6ms/step - loss: 44.0132 - decoder_loss: 37.7202 - decoder_mean_squared_error: 0.0237 - decoder_mean_squared_error_1: 0.7163 - decoder_mean_squared_error_2: 0.0091 - val_loss: 69.1892 - val_decoder_loss: 30.8903 - val_decoder_mean_squared_error: 0.0295 - val_decoder_mean_squared_error_1: 0.7206 - val_decoder_mean_squared_error_2: 0.0080\n",
      "Epoch 44/100\n",
      "15789/15789 [==============================] - 119s 8ms/step - loss: 43.8716 - decoder_loss: 37.6628 - decoder_mean_squared_error: 0.0235 - decoder_mean_squared_error_1: 0.7490 - decoder_mean_squared_error_2: 0.0091 - val_loss: 69.9591 - val_decoder_loss: 31.4905 - val_decoder_mean_squared_error: 0.0301 - val_decoder_mean_squared_error_1: 0.7605 - val_decoder_mean_squared_error_2: 0.0082\n",
      "Epoch 45/100\n",
      "15789/15789 [==============================] - 119s 8ms/step - loss: 43.9751 - decoder_loss: 37.6849 - decoder_mean_squared_error: 0.0236 - decoder_mean_squared_error_1: 0.7948 - decoder_mean_squared_error_2: 0.0091 - val_loss: 69.6200 - val_decoder_loss: 31.4542 - val_decoder_mean_squared_error: 0.0297 - val_decoder_mean_squared_error_1: 0.7850 - val_decoder_mean_squared_error_2: 0.0083\n",
      "\n",
      "Epoch 00045: val_loss did not improve from 68.49232\n",
      "Epoch 46/100\n",
      "15789/15789 [==============================] - 114s 7ms/step - loss: 43.8148 - decoder_loss: 37.6374 - decoder_mean_squared_error: 0.0234 - decoder_mean_squared_error_1: 0.8028 - decoder_mean_squared_error_2: 0.0090 - val_loss: 69.3303 - val_decoder_loss: 31.2265 - val_decoder_mean_squared_error: 0.0295 - val_decoder_mean_squared_error_1: 0.7903 - val_decoder_mean_squared_error_2: 0.0081\n",
      "Epoch 47/100\n",
      "15789/15789 [==============================] - 104s 7ms/step - loss: 43.6247 - decoder_loss: 37.5501 - decoder_mean_squared_error: 0.0233 - decoder_mean_squared_error_1: 0.8218 - decoder_mean_squared_error_2: 0.0090 - val_loss: 69.6869 - val_decoder_loss: 31.3309 - val_decoder_mean_squared_error: 0.0296 - val_decoder_mean_squared_error_1: 0.8273 - val_decoder_mean_squared_error_2: 0.0081\n",
      "Epoch 48/100\n",
      "15789/15789 [==============================] - 103s 7ms/step - loss: 43.7190 - decoder_loss: 37.5547 - decoder_mean_squared_error: 0.0233 - decoder_mean_squared_error_1: 0.8284 - decoder_mean_squared_error_2: 0.0090 - val_loss: 69.1017 - val_decoder_loss: 31.0942 - val_decoder_mean_squared_error: 0.0290 - val_decoder_mean_squared_error_1: 0.8422 - val_decoder_mean_squared_error_2: 0.0081\n",
      "\n",
      "Epoch 00048: val_loss did not improve from 68.49232\n",
      "Epoch 49/100\n",
      "15789/15789 [==============================] - 115s 7ms/step - loss: 43.6728 - decoder_loss: 37.5076 - decoder_mean_squared_error: 0.0232 - decoder_mean_squared_error_1: 0.8534 - decoder_mean_squared_error_2: 0.0089 - val_loss: 69.7186 - val_decoder_loss: 31.3878 - val_decoder_mean_squared_error: 0.0295 - val_decoder_mean_squared_error_1: 0.8441 - val_decoder_mean_squared_error_2: 0.0082\n",
      "Epoch 50/100\n",
      "15789/15789 [==============================] - 122s 8ms/step - loss: 43.5129 - decoder_loss: 37.4439 - decoder_mean_squared_error: 0.0231 - decoder_mean_squared_error_1: 0.8620 - decoder_mean_squared_error_2: 0.0089 - val_loss: 69.6242 - val_decoder_loss: 31.2575 - val_decoder_mean_squared_error: 0.0295 - val_decoder_mean_squared_error_1: 0.8619 - val_decoder_mean_squared_error_2: 0.0081\n",
      "Epoch 51/100\n",
      "15789/15789 [==============================] - 110s 7ms/step - loss: 43.4297 - decoder_loss: 37.4176 - decoder_mean_squared_error: 0.0230 - decoder_mean_squared_error_1: 0.8817 - decoder_mean_squared_error_2: 0.0089 - val_loss: 69.2907 - val_decoder_loss: 31.0082 - val_decoder_mean_squared_error: 0.0294 - val_decoder_mean_squared_error_1: 0.8991 - val_decoder_mean_squared_error_2: 0.0080\n",
      "\n",
      "Epoch 00051: val_loss did not improve from 68.49232\n",
      "Epoch 00051: early stopping\n"
     ]
    },
    {
     "data": {
      "text/plain": [
       "<keras.callbacks.History at 0xb3d07be48>"
      ]
     },
     "execution_count": 56,
     "metadata": {},
     "output_type": "execute_result"
    }
   ],
   "source": [
    "from keras.callbacks import EarlyStopping, ModelCheckpoint\n",
    "\n",
    "es = EarlyStopping(monitor='val_loss', min_delta=0, patience=15, verbose=1, mode='auto')\n",
    "cp = ModelCheckpoint(\"./tmp/vae_{epoch:02d}-{val_loss:.2f}.hdf5\", monitor='val_loss', verbose=1, save_best_only=True, period=3)\n",
    "vae.compile(optimizer='adam', loss=nll_loss, loss_weights=[1.0, 0.5, 0.5], metrics=['mse'])\n",
    "\n",
    "vae.fit([matrices_drums, matrices_times, matrices_durations], [matrices_drums, matrices_times, matrices_durations], \n",
    "        shuffle=True, batch_size=64, epochs=100, verbose=1, validation_split=0.05, callbacks=[es, cp])"
   ]
  },
  {
   "cell_type": "code",
   "execution_count": 135,
   "metadata": {},
   "outputs": [],
   "source": [
    "# save trained models\n",
    "vae.save(\"vae_model_groove.h5\")\n",
    "encoder.save(\"encoder_model_groove.h5\")\n",
    "decoder.save(\"decoder_model_groove.h5\")"
   ]
  },
  {
   "cell_type": "markdown",
   "metadata": {},
   "source": [
    "# Test"
   ]
  },
  {
   "cell_type": "markdown",
   "metadata": {},
   "source": [
    "### Reconstruction"
   ]
  },
  {
   "cell_type": "code",
   "execution_count": 64,
   "metadata": {
    "scrolled": false
   },
   "outputs": [
    {
     "name": "stdout",
     "output_type": "stream",
     "text": [
      "Input -----------\n",
      "onsets\n"
     ]
    },
    {
     "data": {
      "image/png": "[encoded data removed]",
      "text/plain": [
       "<Figure size 1024x288 with 1 Axes>"
      ]
     },
     "metadata": {
      "needs_background": "light"
     },
     "output_type": "display_data"
    },
    {
     "name": "stdout",
     "output_type": "stream",
     "text": [
      "time shift\n"
     ]
    },
    {
     "data": {
      "image/png": "[encoded data removed]",
      "text/plain": [
       "<Figure size 1024x288 with 1 Axes>"
      ]
     },
     "metadata": {
      "needs_background": "light"
     },
     "output_type": "display_data"
    },
    {
     "name": "stdout",
     "output_type": "stream",
     "text": [
      "durations\n"
     ]
    },
    {
     "data": {
      "image/png": "[encoded data removed]",
      "text/plain": [
       "<Figure size 1024x288 with 1 Axes>"
      ]
     },
     "metadata": {
      "needs_background": "light"
     },
     "output_type": "display_data"
    },
    {
     "name": "stdout",
     "output_type": "stream",
     "text": [
      "Reconstructed ---------\n",
      "onsets\n"
     ]
    },
    {
     "data": {
      "image/png": "[encoded data removed]",
      "text/plain": [
       "<Figure size 1024x288 with 1 Axes>"
      ]
     },
     "metadata": {
      "needs_background": "light"
     },
     "output_type": "display_data"
    },
    {
     "name": "stdout",
     "output_type": "stream",
     "text": [
      "time shift\n"
     ]
    },
    {
     "data": {
      "image/png": "[encoded data removed]",
      "text/plain": [
       "<Figure size 1024x288 with 1 Axes>"
      ]
     },
     "metadata": {
      "needs_background": "light"
     },
     "output_type": "display_data"
    },
    {
     "name": "stdout",
     "output_type": "stream",
     "text": [
      "durations\n"
     ]
    },
    {
     "data": {
      "image/png": "[encoded data removed]",
      "text/plain": [
       "<Figure size 1024x288 with 1 Axes>"
      ]
     },
     "metadata": {
      "needs_background": "light"
     },
     "output_type": "display_data"
    }
   ],
   "source": [
    "import random\n",
    "    \n",
    "print (\"Input -----------\")\n",
    "print (\"onsets\")\n",
    "index = random.randint(0, matrices_drums.shape[0])\n",
    "b = matrices_drums[index]\n",
    "plot_drum_matrix(b)\n",
    "print (\"time shift\")\n",
    "t = matrices_times[index]\n",
    "plot_drum_matrix(t)\n",
    "print (\"durations\")\n",
    "d = matrices_durations[index]\n",
    "plot_drum_matrix(d)\n",
    "\n",
    "print(\"Reconstructed ---------\")\n",
    "n, t, d = vae.predict([np.array([b]), np.array([t]),np.array([d])])\n",
    "print (\"onsets\")\n",
    "plot_drum_matrix(n)\n",
    "print (\"time shift\")\n",
    "plot_drum_matrix(t)\n",
    "print (\"durations\")\n",
    "plot_drum_matrix(d)\n"
   ]
  },
  {
   "cell_type": "markdown",
   "metadata": {},
   "source": [
    "### Random Generation"
   ]
  },
  {
   "cell_type": "code",
   "execution_count": 65,
   "metadata": {
    "scrolled": false
   },
   "outputs": [
    {
     "data": {
      "image/png": "[encoded data removed]",
      "text/plain": [
       "<Figure size 1024x288 with 1 Axes>"
      ]
     },
     "metadata": {
      "needs_background": "light"
     },
     "output_type": "display_data"
    },
    {
     "data": {
      "image/png": "[encoded data removed]",
      "text/plain": [
       "<Figure size 1024x288 with 1 Axes>"
      ]
     },
     "metadata": {
      "needs_background": "light"
     },
     "output_type": "display_data"
    },
    {
     "data": {
      "image/png": "[encoded data removed]",
      "text/plain": [
       "<Figure size 1024x288 with 1 Axes>"
      ]
     },
     "metadata": {
      "needs_background": "light"
     },
     "output_type": "display_data"
    }
   ],
   "source": [
    "for i in range(3):\n",
    "    random_z = np.random.normal(0.0, 1.0, (1, n_z))\n",
    "    a,_,_ = decoder.predict(random_z)\n",
    "    plot_drum_matrix(a)"
   ]
  },
  {
   "cell_type": "code",
   "execution_count": null,
   "metadata": {},
   "outputs": [],
   "source": []
  },
  {
   "cell_type": "code",
   "execution_count": null,
   "metadata": {},
   "outputs": [],
   "source": []
  }
 ],
 "metadata": {
  "kernel_info": {
   "name": "python2"
  },
  "kernelspec": {
   "display_name": "Python 3",
   "language": "python",
   "name": "python3"
  },
  "language_info": {
   "codemirror_mode": {
    "name": "ipython",
    "version": 3
   },
   "file_extension": ".py",
   "mimetype": "text/x-python",
   "name": "python",
   "nbconvert_exporter": "python",
   "pygments_lexer": "ipython3",
   "version": "3.7.3"
  },
  "nteract": {
   "version": "0.12.3"
  }
 },
 "nbformat": 4,
 "nbformat_minor": 2
}
